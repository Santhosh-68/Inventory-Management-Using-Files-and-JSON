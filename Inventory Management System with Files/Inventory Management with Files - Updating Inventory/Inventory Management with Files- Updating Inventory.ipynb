{
 "cells": [
  {
   "cell_type": "markdown",
   "id": "6c53f5a7-222d-4c1a-851f-3425c58292d5",
   "metadata": {},
   "source": [
    "## Product Details\n",
    "1. Product ID\n",
    "2. Name of Product\n",
    "3. Price of Product\n",
    "4. Quantity"
   ]
  },
  {
   "cell_type": "code",
   "execution_count": 13,
   "id": "3217574a-e90d-4214-9a22-bc9220a01394",
   "metadata": {},
   "outputs": [
    {
     "name": "stdin",
     "output_type": "stream",
     "text": [
      "Enter Product ID : 4\n",
      "Enter Product Quantity : 20\n"
     ]
    },
    {
     "name": "stdout",
     "output_type": "stream",
     "text": [
      "-------------------------\n",
      "Product Name    : Candy\n",
      "Price           : 1\n",
      "Quantity        : 20\n",
      "-------------------------\n",
      "Billing Amount  : 20\n",
      "-------------------------\n"
     ]
    }
   ],
   "source": [
    "fd = open(\"Inventory.txt\",'r')\n",
    "products = fd.read().split('\\n')\n",
    "fd.close()\n",
    "\n",
    "prod_id = input(\"Enter Product ID :\")\n",
    "prod_qn = input(\"Enter Product Quantity :\")\n",
    "\n",
    "updated_prod_lst = []\n",
    "\n",
    "for product in products:\n",
    "\n",
    "    prod_details = product.split(',')\n",
    "    \n",
    "    if (prod_details[0] == prod_id):\n",
    "        print('-'*25)\n",
    "        print(\"Product Name    :\", prod_details[1])\n",
    "        print(\"Price           :\", prod_details[2])\n",
    "        print(\"Quantity        :\", prod_qn)\n",
    "        print('-'*25)\n",
    "        print(\"Billing Amount  :\", int(prod_qn) * int(prod_details[2]))\n",
    "        print('-'*25)\n",
    "\n",
    "        prod_details[3] = str(int(prod_details[3]) - int(prod_qn))\n",
    "        \n",
    "    updated_prod_lst.append(prod_details)\n",
    "\n",
    "lst=[]\n",
    "\n",
    "for i in updated_prod_lst:\n",
    "    prod = i[0] +','+ i[1] +','+ i[2] +','+ i[3] +'\\n'\n",
    "    lst.append(prod)\n",
    "\n",
    "lst[-1] = lst[-1][:-1]\n",
    "\n",
    "fd = open(\"Inventory.txt\",'w')\n",
    "\n",
    "for i in lst:\n",
    "    fd.write(i)\n",
    "    \n",
    "fd.close()"
   ]
  },
  {
   "cell_type": "code",
   "execution_count": null,
   "id": "d5b73473-9aee-4905-8c6d-82f6f2a7f338",
   "metadata": {},
   "outputs": [],
   "source": []
  }
 ],
 "metadata": {
  "kernelspec": {
   "display_name": "Python 3 (ipykernel)",
   "language": "python",
   "name": "python3"
  },
  "language_info": {
   "codemirror_mode": {
    "name": "ipython",
    "version": 3
   },
   "file_extension": ".py",
   "mimetype": "text/x-python",
   "name": "python",
   "nbconvert_exporter": "python",
   "pygments_lexer": "ipython3",
   "version": "3.12.4"
  }
 },
 "nbformat": 4,
 "nbformat_minor": 5
}
