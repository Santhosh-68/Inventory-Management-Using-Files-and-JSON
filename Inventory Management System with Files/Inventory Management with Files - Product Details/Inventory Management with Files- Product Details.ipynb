{
 "cells": [
  {
   "cell_type": "markdown",
   "id": "6c53f5a7-222d-4c1a-851f-3425c58292d5",
   "metadata": {},
   "source": [
    "## Product Details\n",
    "1. Product ID\n",
    "2. Name of Product\n",
    "3. Price of Product\n",
    "4. Quantity"
   ]
  },
  {
   "cell_type": "code",
   "execution_count": 58,
   "id": "90dd1d8c-1f4e-4807-8670-1e86410b43fc",
   "metadata": {},
   "outputs": [],
   "source": [
    "fd = open(\"Inventory.txt\",'r')\n",
    "\n",
    "products = fd.read().split('\\n')\n",
    "\n",
    "fd.close()"
   ]
  },
  {
   "cell_type": "code",
   "execution_count": 60,
   "id": "4b10ca34-6f05-4645-b36f-8b9c4393f0b6",
   "metadata": {},
   "outputs": [
    {
     "name": "stdout",
     "output_type": "stream",
     "text": [
      "1,5 Star,5,100\n",
      "2,Milky bar,5,100\n",
      "3,Cake,300,5\n",
      "4,Candy,1,200\n"
     ]
    }
   ],
   "source": [
    "for i in products:\n",
    "    print(i)"
   ]
  },
  {
   "cell_type": "code",
   "execution_count": 62,
   "id": "3217574a-e90d-4214-9a22-bc9220a01394",
   "metadata": {},
   "outputs": [
    {
     "name": "stdout",
     "output_type": "stream",
     "text": [
      "Enter Product ID : 2\n",
      "Enter Product Quantity : 5\n"
     ]
    },
    {
     "name": "stdout",
     "output_type": "stream",
     "text": [
      "-------------------------\n",
      "Product Name    : Milky bar\n",
      "Price           : 5\n",
      "Quantity        : 5\n",
      "-------------------------\n",
      "Billing Amount  : 25\n",
      "-------------------------\n"
     ]
    }
   ],
   "source": [
    "prod_id = input(\"Enter Product ID :\")\n",
    "prod_qn = input(\"Enter Product Quantity :\")\n",
    "\n",
    "for product in products:\n",
    "\n",
    "    prod_details = product.split(',')\n",
    "    if (prod_details[0] == prod_id):\n",
    "        print('-'*25)\n",
    "        print(\"Product Name    :\", prod_details[1])\n",
    "        print(\"Price           :\", prod_details[2])\n",
    "        print(\"Quantity        :\", prod_qn)\n",
    "        print('-'*25)\n",
    "        print(\"Billing Amount  :\", int(prod_qn) * int(prod_details[2]))\n",
    "        print('-'*25)"
   ]
  },
  {
   "cell_type": "code",
   "execution_count": null,
   "id": "4f02dba6-2eb3-4eab-a06f-721cbc468ccd",
   "metadata": {},
   "outputs": [],
   "source": []
  }
 ],
 "metadata": {
  "kernelspec": {
   "display_name": "Python 3 (ipykernel)",
   "language": "python",
   "name": "python3"
  },
  "language_info": {
   "codemirror_mode": {
    "name": "ipython",
    "version": 3
   },
   "file_extension": ".py",
   "mimetype": "text/x-python",
   "name": "python",
   "nbconvert_exporter": "python",
   "pygments_lexer": "ipython3",
   "version": "3.12.4"
  }
 },
 "nbformat": 4,
 "nbformat_minor": 5
}
