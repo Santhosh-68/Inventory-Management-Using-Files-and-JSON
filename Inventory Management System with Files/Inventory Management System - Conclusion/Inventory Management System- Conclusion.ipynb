{
 "cells": [
  {
   "cell_type": "markdown",
   "id": "87adf764-43c9-443c-8ebe-c23ff0866880",
   "metadata": {},
   "source": [
    "## Product Details\n",
    "1. Product ID\n",
    "2. Name of Product\n",
    "3. Price of Product\n",
    "4. Quantity"
   ]
  },
  {
   "cell_type": "code",
   "execution_count": 1,
   "id": "5ff37616-385e-4883-b73f-08accbb8e0bc",
   "metadata": {},
   "outputs": [
    {
     "name": "stdin",
     "output_type": "stream",
     "text": [
      "Enter your Name : Santhosh\n",
      "Enter your Phone No : 63xxxxxxxx\n",
      "Enter your Mail : abc@gmail.com\n",
      "Enter Product ID : 3\n",
      "Enter Product Quantity : 8\n"
     ]
    },
    {
     "name": "stdout",
     "output_type": "stream",
     "text": [
      "Sorry, We're not having enough quantity.\n",
      "We're having only 6 quantity.\n",
      "Would you like to purchase it?\n"
     ]
    },
    {
     "name": "stdin",
     "output_type": "stream",
     "text": [
      "Press Y/N : y\n"
     ]
    },
    {
     "name": "stdout",
     "output_type": "stream",
     "text": [
      "-------------------------\n",
      "Product Name    : cake\n",
      "Price           : 300\n",
      "Quantity        : 6\n",
      "-------------------------\n",
      "Billing Amount  : 1800\n",
      "-------------------------\n",
      "-------------------------\n",
      "Inventory Updated\n"
     ]
    }
   ],
   "source": [
    "# Noting the time of transaction\n",
    "import time\n",
    "\n",
    "#Reading the Inventory\n",
    "fd = open(\"Inventory.txt\",'r')\n",
    "products = fd.read().split('\\n')\n",
    "fd.close()\n",
    "\n",
    "# Taking User Input\n",
    "ui_username = input(\"Enter your Name :\")\n",
    "ui_phone    = input(\"Enter your Phone No :\")\n",
    "ui_mail     = input(\"Enter your Mail :\")\n",
    "prod_id     = input(\"Enter Product ID :\")\n",
    "prod_qn     = input(\"Enter Product Quantity :\")\n",
    "\n",
    "updated_prod_lst = []\n",
    "\n",
    "# Going through each product detail\n",
    "for product in products:\n",
    "\n",
    "    prod_details = product.split(',')\n",
    "\n",
    "    # Checking if product exists or not\n",
    "    if (prod_details[0] == prod_id):\n",
    "\n",
    "        # If we're having enough quantity\n",
    "        if (int(prod_qn) <= int(prod_details[3])):\n",
    "\n",
    "            print('-'*25)\n",
    "            print(\"Product Name    :\",prod_details[1])\n",
    "            print(\"Price           :\",prod_details[2])\n",
    "            print(\"Quantity        :\",prod_qn)\n",
    "            print('-'*25)\n",
    "            print(\"Billing Amount  :\",int(prod_qn) * int(prod_details[2]))\n",
    "            print('-'*25)\n",
    "\n",
    "            # Updating Quantity in Inventory\n",
    "            prod_details[3] = str(int(prod_details[3]) - int(prod_qn))\n",
    "\n",
    "            # Generating Sales in Sales.txt\n",
    "            fd = open(\"Sales.txt\",'a')\n",
    "            sales_detail = ui_username +\",\"+ ui_phone +\",\"+ ui_mail +\",\"+ prod_details[1] +\",\"+ prod_id +\",\"+ prod_qn +\",\"+ str(int(prod_qn) * int(prod_details[2])) +\",\"+ time.ctime() +\"\\n\"\n",
    "            fd.write(sales_detail)\n",
    "            fd.close()\n",
    "\n",
    "        else:\n",
    "        # If we're not having enough quantity\n",
    "            \n",
    "            print(\"Sorry, We're not having enough quantity.\")\n",
    "            print(\"We're having only\",prod_details[3],\"quantity.\")\n",
    "            print(\"Would you like to purchase it?\")\n",
    "\n",
    "            ch = input(\"Press Y/N :\")\n",
    "\n",
    "            # If you want to purchase with remaining quantity\n",
    "            if (ch == 'Y' or ch == 'y'):\n",
    "\n",
    "                print('-'*25)\n",
    "                print(\"Product Name    :\",prod_details[1])\n",
    "                print(\"Price           :\",prod_details[2])\n",
    "                print(\"Quantity        :\",prod_details[3])\n",
    "                print('-'*25)\n",
    "                print(\"Billing Amount  :\",int(prod_details[3]) * int(prod_details[2]))\n",
    "                print('-'*25)\n",
    "\n",
    "                # Generating Sales in Sales.txt\n",
    "                fd = open(\"Sales.txt\",'a')\n",
    "                sales_detail = ui_username +\",\"+ ui_phone +\",\"+ ui_mail +\",\"+ prod_details[1] +\",\"+ prod_id +\",\"+ prod_details[3] +\",\"+ str(int(prod_details[3]) * int(prod_details[2])) +\",\"+ time.ctime() +\"\\n\"\n",
    "                fd.write(sales_detail)\n",
    "                fd.close()\n",
    "                \n",
    "                # Updating Quantity in Inventory\n",
    "                prod_details[3] = '0'\n",
    "\n",
    "            else:\n",
    "                print(\"Thanks\")\n",
    "\n",
    "    # Updating my Inventory List\n",
    "    updated_prod_lst.append(prod_details)\n",
    "\n",
    "\n",
    "lst = []\n",
    "\n",
    "# Updating my Inventory String\n",
    "for i in updated_prod_lst:\n",
    "    prod = i[0] +\",\"+ i[1] +\",\"+ i[2] +\",\"+ i[3] +\"\\n\"\n",
    "    lst.append(prod)\n",
    "\n",
    "# Removing last \\n from the list\n",
    "lst[-1] = lst[-1][:-1]\n",
    "\n",
    "\n",
    "# Updating Inventory File\n",
    "fd = open(\"Inventory.txt\",'w')\n",
    "\n",
    "for i in lst:\n",
    "    fd.write(i)\n",
    "\n",
    "fd.close()\n",
    "\n",
    "print('-'*25)\n",
    "print(\"Inventory Updated\")"
   ]
  },
  {
   "cell_type": "code",
   "execution_count": null,
   "id": "3030d9d1-ff21-4fef-a251-eedb10bd36b8",
   "metadata": {},
   "outputs": [],
   "source": []
  }
 ],
 "metadata": {
  "kernelspec": {
   "display_name": "Python 3 (ipykernel)",
   "language": "python",
   "name": "python3"
  },
  "language_info": {
   "codemirror_mode": {
    "name": "ipython",
    "version": 3
   },
   "file_extension": ".py",
   "mimetype": "text/x-python",
   "name": "python",
   "nbconvert_exporter": "python",
   "pygments_lexer": "ipython3",
   "version": "3.12.4"
  }
 },
 "nbformat": 4,
 "nbformat_minor": 5
}
