{
 "cells": [
  {
   "cell_type": "code",
   "execution_count": 1,
   "id": "8fd132f0-a625-4d7d-b9e8-10009daa9f61",
   "metadata": {},
   "outputs": [],
   "source": [
    "fd = open('data.txt','r')\n",
    "txt = fd.read()\n",
    "fd.close()"
   ]
  },
  {
   "cell_type": "code",
   "execution_count": 3,
   "id": "05eecd64-48bf-4eea-b983-baf43d4bd300",
   "metadata": {},
   "outputs": [
    {
     "data": {
      "text/plain": [
       "'The COVID-19 pandemic (also known as the coronavirus pandemic and COVID pandemic), caused by severe acute respiratory syndrome coronavirus 2 (SARS-CoV-2), began with an outbreak of COVID-19 in Wuhan, China, in December 2019. It spread to other areas of Asia, and then worldwide in early 2020. The World Health Organization (WHO) declared the outbreak a public health emergency of international concern (PHEIC) on 30 January 2020, and assessed the outbreak as having become a pandemic on 11 March.[3]\\n\\nCOVID-19 symptoms range from asymptomatic to deadly, but most commonly include fever, sore throat, nocturnal cough, and fatigue. Transmission of the virus is often through airborne particles. Mutations have produced many strains (variants) with varying degrees of infectivity and virulence.[9] COVID-19 vaccines were developed rapidly and deployed to the general public beginning in December 2020, made available through government and international programmes such as COVAX, aiming to provide vaccine equity. Treatments include novel antiviral drugs and symptom control. Common mitigation measures during the public health emergency included travel restrictions, lockdowns, business restrictions and closures, workplace hazard controls, mask mandates, quarantines, testing systems, and contact tracing of the infected.\\n\\nThe pandemic caused severe social and economic disruption around the world, including the largest global recession since the Great Depression.[10] Widespread supply shortages, including food shortages, were caused by supply chain disruptions and panic buying. Reduced human activity led to an unprecedented temporary decrease in pollution. Educational institutions and public areas were partially or fully closed in many jurisdictions, and many events were cancelled or postponed during 2020 and 2021. Telework became much more common for white-collar workers as the pandemic evolved. Misinformation circulated through social media and mass media, and political tensions intensified. The pandemic raised issues of racial and geographic discrimination, health equity, and the balance between public health imperatives and individual rights.\\n\\nThe WHO ended the PHEIC for COVID-19 on 5 May 2023.[4] The disease has continued to circulate. However, as of 2024, experts were uncertain as to whether it was still a pandemic.[11][12] Pandemics and their ends are not well-defined, and whether or not one has ended differs according to the definition used.[11][13] As of 9 January 2025, COVID-19 has caused 7,079,582[5] confirmed deaths, and 18.2 to 33.5 million estimated deaths.[7] The COVID-19 pandemic ranks as the fifth-deadliest pandemic or epidemic in history.'"
      ]
     },
     "execution_count": 3,
     "metadata": {},
     "output_type": "execute_result"
    }
   ],
   "source": [
    "txt"
   ]
  },
  {
   "cell_type": "code",
   "execution_count": 8,
   "id": "3d179eb3-4339-4002-9024-e2633e7f6ffb",
   "metadata": {},
   "outputs": [
    {
     "name": "stdout",
     "output_type": "stream",
     "text": [
      "The COVID-19 pandemic (also known as the coronavirus pandemic and COVID pandemic), caused by severe acute respiratory syndrome coronavirus 2 (SARS-CoV-2), began with an outbreak of COVID-19 in Wuhan, China, in December 2019. It spread to other areas of Asia, and then worldwide in early 2020. The World Health Organization (WHO) declared the outbreak a public health emergency of international concern (PHEIC) on 30 January 2020, and assessed the outbreak as having become a pandemic on 11 March.[3]\n",
      "\n",
      "COVID-19 symptoms range from asymptomatic to deadly, but most commonly include fever, sore throat, nocturnal cough, and fatigue. Transmission of the virus is often through airborne particles. Mutations have produced many strains (variants) with varying degrees of infectivity and virulence.[9] COVID-19 vaccines were developed rapidly and deployed to the general public beginning in December 2020, made available through government and international programmes such as COVAX, aiming to provide vaccine equity. Treatments include novel antiviral drugs and symptom control. Common mitigation measures during the public health emergency included travel restrictions, lockdowns, business restrictions and closures, workplace hazard controls, mask mandates, quarantines, testing systems, and contact tracing of the infected.\n",
      "\n",
      "The pandemic caused severe social and economic disruption around the world, including the largest global recession since the Great Depression.[10] Widespread supply shortages, including food shortages, were caused by supply chain disruptions and panic buying. Reduced human activity led to an unprecedented temporary decrease in pollution. Educational institutions and public areas were partially or fully closed in many jurisdictions, and many events were cancelled or postponed during 2020 and 2021. Telework became much more common for white-collar workers as the pandemic evolved. Misinformation circulated through social media and mass media, and political tensions intensified. The pandemic raised issues of racial and geographic discrimination, health equity, and the balance between public health imperatives and individual rights.\n",
      "\n",
      "The WHO ended the PHEIC for COVID-19 on 5 May 2023.[4] The disease has continued to circulate. However, as of 2024, experts were uncertain as to whether it was still a pandemic.[11][12] Pandemics and their ends are not well-defined, and whether or not one has ended differs according to the definition used.[11][13] As of 9 January 2025, COVID-19 has caused 7,079,582[5] confirmed deaths, and 18.2 to 33.5 million estimated deaths.[7] The COVID-19 pandemic ranks as the fifth-deadliest pandemic or epidemic in history.\n"
     ]
    }
   ],
   "source": [
    "print(txt)"
   ]
  },
  {
   "cell_type": "markdown",
   "id": "733fc50a-60f8-4e82-8e7a-b8e8628e1f31",
   "metadata": {},
   "source": [
    "## Paragraphs"
   ]
  },
  {
   "cell_type": "code",
   "execution_count": 12,
   "id": "c8bce483-858c-43cb-9746-2beff83983c0",
   "metadata": {},
   "outputs": [
    {
     "data": {
      "text/plain": [
       "['The COVID-19 pandemic (also known as the coronavirus pandemic and COVID pandemic), caused by severe acute respiratory syndrome coronavirus 2 (SARS-CoV-2), began with an outbreak of COVID-19 in Wuhan, China, in December 2019. It spread to other areas of Asia, and then worldwide in early 2020. The World Health Organization (WHO) declared the outbreak a public health emergency of international concern (PHEIC) on 30 January 2020, and assessed the outbreak as having become a pandemic on 11 March.[3]',\n",
       " 'COVID-19 symptoms range from asymptomatic to deadly, but most commonly include fever, sore throat, nocturnal cough, and fatigue. Transmission of the virus is often through airborne particles. Mutations have produced many strains (variants) with varying degrees of infectivity and virulence.[9] COVID-19 vaccines were developed rapidly and deployed to the general public beginning in December 2020, made available through government and international programmes such as COVAX, aiming to provide vaccine equity. Treatments include novel antiviral drugs and symptom control. Common mitigation measures during the public health emergency included travel restrictions, lockdowns, business restrictions and closures, workplace hazard controls, mask mandates, quarantines, testing systems, and contact tracing of the infected.',\n",
       " 'The pandemic caused severe social and economic disruption around the world, including the largest global recession since the Great Depression.[10] Widespread supply shortages, including food shortages, were caused by supply chain disruptions and panic buying. Reduced human activity led to an unprecedented temporary decrease in pollution. Educational institutions and public areas were partially or fully closed in many jurisdictions, and many events were cancelled or postponed during 2020 and 2021. Telework became much more common for white-collar workers as the pandemic evolved. Misinformation circulated through social media and mass media, and political tensions intensified. The pandemic raised issues of racial and geographic discrimination, health equity, and the balance between public health imperatives and individual rights.',\n",
       " 'The WHO ended the PHEIC for COVID-19 on 5 May 2023.[4] The disease has continued to circulate. However, as of 2024, experts were uncertain as to whether it was still a pandemic.[11][12] Pandemics and their ends are not well-defined, and whether or not one has ended differs according to the definition used.[11][13] As of 9 January 2025, COVID-19 has caused 7,079,582[5] confirmed deaths, and 18.2 to 33.5 million estimated deaths.[7] The COVID-19 pandemic ranks as the fifth-deadliest pandemic or epidemic in history.']"
      ]
     },
     "execution_count": 12,
     "metadata": {},
     "output_type": "execute_result"
    }
   ],
   "source": [
    "par = txt.split('\\n\\n')\n",
    "par"
   ]
  },
  {
   "cell_type": "code",
   "execution_count": 14,
   "id": "53451d24-0df5-447e-952a-04ac48b9b98b",
   "metadata": {},
   "outputs": [
    {
     "name": "stdout",
     "output_type": "stream",
     "text": [
      "The COVID-19 pandemic (also known as the coronavirus pandemic and COVID pandemic), caused by severe acute respiratory syndrome coronavirus 2 (SARS-CoV-2), began with an outbreak of COVID-19 in Wuhan, China, in December 2019. It spread to other areas of Asia, and then worldwide in early 2020. The World Health Organization (WHO) declared the outbreak a public health emergency of international concern (PHEIC) on 30 January 2020, and assessed the outbreak as having become a pandemic on 11 March.[3]\n",
      "COVID-19 symptoms range from asymptomatic to deadly, but most commonly include fever, sore throat, nocturnal cough, and fatigue. Transmission of the virus is often through airborne particles. Mutations have produced many strains (variants) with varying degrees of infectivity and virulence.[9] COVID-19 vaccines were developed rapidly and deployed to the general public beginning in December 2020, made available through government and international programmes such as COVAX, aiming to provide vaccine equity. Treatments include novel antiviral drugs and symptom control. Common mitigation measures during the public health emergency included travel restrictions, lockdowns, business restrictions and closures, workplace hazard controls, mask mandates, quarantines, testing systems, and contact tracing of the infected.\n",
      "The pandemic caused severe social and economic disruption around the world, including the largest global recession since the Great Depression.[10] Widespread supply shortages, including food shortages, were caused by supply chain disruptions and panic buying. Reduced human activity led to an unprecedented temporary decrease in pollution. Educational institutions and public areas were partially or fully closed in many jurisdictions, and many events were cancelled or postponed during 2020 and 2021. Telework became much more common for white-collar workers as the pandemic evolved. Misinformation circulated through social media and mass media, and political tensions intensified. The pandemic raised issues of racial and geographic discrimination, health equity, and the balance between public health imperatives and individual rights.\n",
      "The WHO ended the PHEIC for COVID-19 on 5 May 2023.[4] The disease has continued to circulate. However, as of 2024, experts were uncertain as to whether it was still a pandemic.[11][12] Pandemics and their ends are not well-defined, and whether or not one has ended differs according to the definition used.[11][13] As of 9 January 2025, COVID-19 has caused 7,079,582[5] confirmed deaths, and 18.2 to 33.5 million estimated deaths.[7] The COVID-19 pandemic ranks as the fifth-deadliest pandemic or epidemic in history.\n"
     ]
    }
   ],
   "source": [
    "for i in par:\n",
    "    print(i)"
   ]
  },
  {
   "cell_type": "code",
   "execution_count": 16,
   "id": "27170daa-6847-480d-9639-e744ae863c8b",
   "metadata": {},
   "outputs": [
    {
     "data": {
      "text/plain": [
       "4"
      ]
     },
     "execution_count": 16,
     "metadata": {},
     "output_type": "execute_result"
    }
   ],
   "source": [
    "len(par)"
   ]
  },
  {
   "cell_type": "markdown",
   "id": "d42099a2-5f2d-42e3-8ea3-be7e9cd88769",
   "metadata": {},
   "source": [
    "## Lines"
   ]
  },
  {
   "cell_type": "code",
   "execution_count": 19,
   "id": "0ec0f3a8-130c-4030-97d7-51c5d7779a28",
   "metadata": {},
   "outputs": [
    {
     "data": {
      "text/plain": [
       "['The COVID-19 pandemic (also known as the coronavirus pandemic and COVID pandemic), caused by severe acute respiratory syndrome coronavirus 2 (SARS-CoV-2), began with an outbreak of COVID-19 in Wuhan, China, in December 2019',\n",
       " ' It spread to other areas of Asia, and then worldwide in early 2020',\n",
       " ' The World Health Organization (WHO) declared the outbreak a public health emergency of international concern (PHEIC) on 30 January 2020, and assessed the outbreak as having become a pandemic on 11 March',\n",
       " '[3]\\n\\nCOVID-19 symptoms range from asymptomatic to deadly, but most commonly include fever, sore throat, nocturnal cough, and fatigue',\n",
       " ' Transmission of the virus is often through airborne particles',\n",
       " ' Mutations have produced many strains (variants) with varying degrees of infectivity and virulence',\n",
       " '[9] COVID-19 vaccines were developed rapidly and deployed to the general public beginning in December 2020, made available through government and international programmes such as COVAX, aiming to provide vaccine equity',\n",
       " ' Treatments include novel antiviral drugs and symptom control',\n",
       " ' Common mitigation measures during the public health emergency included travel restrictions, lockdowns, business restrictions and closures, workplace hazard controls, mask mandates, quarantines, testing systems, and contact tracing of the infected',\n",
       " '\\n\\nThe pandemic caused severe social and economic disruption around the world, including the largest global recession since the Great Depression',\n",
       " '[10] Widespread supply shortages, including food shortages, were caused by supply chain disruptions and panic buying',\n",
       " ' Reduced human activity led to an unprecedented temporary decrease in pollution',\n",
       " ' Educational institutions and public areas were partially or fully closed in many jurisdictions, and many events were cancelled or postponed during 2020 and 2021',\n",
       " ' Telework became much more common for white-collar workers as the pandemic evolved',\n",
       " ' Misinformation circulated through social media and mass media, and political tensions intensified',\n",
       " ' The pandemic raised issues of racial and geographic discrimination, health equity, and the balance between public health imperatives and individual rights',\n",
       " '\\n\\nThe WHO ended the PHEIC for COVID-19 on 5 May 2023',\n",
       " '[4] The disease has continued to circulate',\n",
       " ' However, as of 2024, experts were uncertain as to whether it was still a pandemic',\n",
       " '[11][12] Pandemics and their ends are not well-defined, and whether or not one has ended differs according to the definition used',\n",
       " '[11][13] As of 9 January 2025, COVID-19 has caused 7,079,582[5] confirmed deaths, and 18',\n",
       " '2 to 33',\n",
       " '5 million estimated deaths',\n",
       " '[7] The COVID-19 pandemic ranks as the fifth-deadliest pandemic or epidemic in history',\n",
       " '']"
      ]
     },
     "execution_count": 19,
     "metadata": {},
     "output_type": "execute_result"
    }
   ],
   "source": [
    "lines = txt.split('.')\n",
    "lines"
   ]
  },
  {
   "cell_type": "code",
   "execution_count": 21,
   "id": "e0bfcc5d-495f-4e24-a600-5a652d460a2a",
   "metadata": {},
   "outputs": [
    {
     "data": {
      "text/plain": [
       "25"
      ]
     },
     "execution_count": 21,
     "metadata": {},
     "output_type": "execute_result"
    }
   ],
   "source": [
    "len(lines)"
   ]
  },
  {
   "cell_type": "code",
   "execution_count": 23,
   "id": "73fd9ee5-a6df-4575-b4be-cdeed36daac7",
   "metadata": {},
   "outputs": [
    {
     "data": {
      "text/plain": [
       "''"
      ]
     },
     "execution_count": 23,
     "metadata": {},
     "output_type": "execute_result"
    }
   ],
   "source": [
    "lines[-1]"
   ]
  },
  {
   "cell_type": "code",
   "execution_count": 27,
   "id": "cb553b1e-639c-4dfa-8700-637c7ed86623",
   "metadata": {},
   "outputs": [
    {
     "data": {
      "text/plain": [
       "24"
      ]
     },
     "execution_count": 27,
     "metadata": {},
     "output_type": "execute_result"
    }
   ],
   "source": [
    "len(lines[:-1])"
   ]
  },
  {
   "cell_type": "markdown",
   "id": "9a5a35e6-bed1-4481-8e0e-e52f5a17c66f",
   "metadata": {},
   "source": [
    "## Words"
   ]
  },
  {
   "cell_type": "code",
   "execution_count": 30,
   "id": "cfaffa04-9e2f-4013-8066-491c8f27f69d",
   "metadata": {},
   "outputs": [
    {
     "data": {
      "text/plain": [
       "['The',\n",
       " 'COVID-19',\n",
       " 'pandemic',\n",
       " '(also',\n",
       " 'known',\n",
       " 'as',\n",
       " 'the',\n",
       " 'coronavirus',\n",
       " 'pandemic',\n",
       " 'and',\n",
       " 'COVID',\n",
       " 'pandemic),',\n",
       " 'caused',\n",
       " 'by',\n",
       " 'severe',\n",
       " 'acute',\n",
       " 'respiratory',\n",
       " 'syndrome',\n",
       " 'coronavirus',\n",
       " '2',\n",
       " '(SARS-CoV-2),',\n",
       " 'began',\n",
       " 'with',\n",
       " 'an',\n",
       " 'outbreak',\n",
       " 'of',\n",
       " 'COVID-19',\n",
       " 'in',\n",
       " 'Wuhan,',\n",
       " 'China,',\n",
       " 'in',\n",
       " 'December',\n",
       " '2019.',\n",
       " 'It',\n",
       " 'spread',\n",
       " 'to',\n",
       " 'other',\n",
       " 'areas',\n",
       " 'of',\n",
       " 'Asia,',\n",
       " 'and',\n",
       " 'then',\n",
       " 'worldwide',\n",
       " 'in',\n",
       " 'early',\n",
       " '2020.',\n",
       " 'The',\n",
       " 'World',\n",
       " 'Health',\n",
       " 'Organization',\n",
       " '(WHO)',\n",
       " 'declared',\n",
       " 'the',\n",
       " 'outbreak',\n",
       " 'a',\n",
       " 'public',\n",
       " 'health',\n",
       " 'emergency',\n",
       " 'of',\n",
       " 'international',\n",
       " 'concern',\n",
       " '(PHEIC)',\n",
       " 'on',\n",
       " '30',\n",
       " 'January',\n",
       " '2020,',\n",
       " 'and',\n",
       " 'assessed',\n",
       " 'the',\n",
       " 'outbreak',\n",
       " 'as',\n",
       " 'having',\n",
       " 'become',\n",
       " 'a',\n",
       " 'pandemic',\n",
       " 'on',\n",
       " '11',\n",
       " 'March.[3]\\n\\nCOVID-19',\n",
       " 'symptoms',\n",
       " 'range',\n",
       " 'from',\n",
       " 'asymptomatic',\n",
       " 'to',\n",
       " 'deadly,',\n",
       " 'but',\n",
       " 'most',\n",
       " 'commonly',\n",
       " 'include',\n",
       " 'fever,',\n",
       " 'sore',\n",
       " 'throat,',\n",
       " 'nocturnal',\n",
       " 'cough,',\n",
       " 'and',\n",
       " 'fatigue.',\n",
       " 'Transmission',\n",
       " 'of',\n",
       " 'the',\n",
       " 'virus',\n",
       " 'is',\n",
       " 'often',\n",
       " 'through',\n",
       " 'airborne',\n",
       " 'particles.',\n",
       " 'Mutations',\n",
       " 'have',\n",
       " 'produced',\n",
       " 'many',\n",
       " 'strains',\n",
       " '(variants)',\n",
       " 'with',\n",
       " 'varying',\n",
       " 'degrees',\n",
       " 'of',\n",
       " 'infectivity',\n",
       " 'and',\n",
       " 'virulence.[9]',\n",
       " 'COVID-19',\n",
       " 'vaccines',\n",
       " 'were',\n",
       " 'developed',\n",
       " 'rapidly',\n",
       " 'and',\n",
       " 'deployed',\n",
       " 'to',\n",
       " 'the',\n",
       " 'general',\n",
       " 'public',\n",
       " 'beginning',\n",
       " 'in',\n",
       " 'December',\n",
       " '2020,',\n",
       " 'made',\n",
       " 'available',\n",
       " 'through',\n",
       " 'government',\n",
       " 'and',\n",
       " 'international',\n",
       " 'programmes',\n",
       " 'such',\n",
       " 'as',\n",
       " 'COVAX,',\n",
       " 'aiming',\n",
       " 'to',\n",
       " 'provide',\n",
       " 'vaccine',\n",
       " 'equity.',\n",
       " 'Treatments',\n",
       " 'include',\n",
       " 'novel',\n",
       " 'antiviral',\n",
       " 'drugs',\n",
       " 'and',\n",
       " 'symptom',\n",
       " 'control.',\n",
       " 'Common',\n",
       " 'mitigation',\n",
       " 'measures',\n",
       " 'during',\n",
       " 'the',\n",
       " 'public',\n",
       " 'health',\n",
       " 'emergency',\n",
       " 'included',\n",
       " 'travel',\n",
       " 'restrictions,',\n",
       " 'lockdowns,',\n",
       " 'business',\n",
       " 'restrictions',\n",
       " 'and',\n",
       " 'closures,',\n",
       " 'workplace',\n",
       " 'hazard',\n",
       " 'controls,',\n",
       " 'mask',\n",
       " 'mandates,',\n",
       " 'quarantines,',\n",
       " 'testing',\n",
       " 'systems,',\n",
       " 'and',\n",
       " 'contact',\n",
       " 'tracing',\n",
       " 'of',\n",
       " 'the',\n",
       " 'infected.\\n\\nThe',\n",
       " 'pandemic',\n",
       " 'caused',\n",
       " 'severe',\n",
       " 'social',\n",
       " 'and',\n",
       " 'economic',\n",
       " 'disruption',\n",
       " 'around',\n",
       " 'the',\n",
       " 'world,',\n",
       " 'including',\n",
       " 'the',\n",
       " 'largest',\n",
       " 'global',\n",
       " 'recession',\n",
       " 'since',\n",
       " 'the',\n",
       " 'Great',\n",
       " 'Depression.[10]',\n",
       " 'Widespread',\n",
       " 'supply',\n",
       " 'shortages,',\n",
       " 'including',\n",
       " 'food',\n",
       " 'shortages,',\n",
       " 'were',\n",
       " 'caused',\n",
       " 'by',\n",
       " 'supply',\n",
       " 'chain',\n",
       " 'disruptions',\n",
       " 'and',\n",
       " 'panic',\n",
       " 'buying.',\n",
       " 'Reduced',\n",
       " 'human',\n",
       " 'activity',\n",
       " 'led',\n",
       " 'to',\n",
       " 'an',\n",
       " 'unprecedented',\n",
       " 'temporary',\n",
       " 'decrease',\n",
       " 'in',\n",
       " 'pollution.',\n",
       " 'Educational',\n",
       " 'institutions',\n",
       " 'and',\n",
       " 'public',\n",
       " 'areas',\n",
       " 'were',\n",
       " 'partially',\n",
       " 'or',\n",
       " 'fully',\n",
       " 'closed',\n",
       " 'in',\n",
       " 'many',\n",
       " 'jurisdictions,',\n",
       " 'and',\n",
       " 'many',\n",
       " 'events',\n",
       " 'were',\n",
       " 'cancelled',\n",
       " 'or',\n",
       " 'postponed',\n",
       " 'during',\n",
       " '2020',\n",
       " 'and',\n",
       " '2021.',\n",
       " 'Telework',\n",
       " 'became',\n",
       " 'much',\n",
       " 'more',\n",
       " 'common',\n",
       " 'for',\n",
       " 'white-collar',\n",
       " 'workers',\n",
       " 'as',\n",
       " 'the',\n",
       " 'pandemic',\n",
       " 'evolved.',\n",
       " 'Misinformation',\n",
       " 'circulated',\n",
       " 'through',\n",
       " 'social',\n",
       " 'media',\n",
       " 'and',\n",
       " 'mass',\n",
       " 'media,',\n",
       " 'and',\n",
       " 'political',\n",
       " 'tensions',\n",
       " 'intensified.',\n",
       " 'The',\n",
       " 'pandemic',\n",
       " 'raised',\n",
       " 'issues',\n",
       " 'of',\n",
       " 'racial',\n",
       " 'and',\n",
       " 'geographic',\n",
       " 'discrimination,',\n",
       " 'health',\n",
       " 'equity,',\n",
       " 'and',\n",
       " 'the',\n",
       " 'balance',\n",
       " 'between',\n",
       " 'public',\n",
       " 'health',\n",
       " 'imperatives',\n",
       " 'and',\n",
       " 'individual',\n",
       " 'rights.\\n\\nThe',\n",
       " 'WHO',\n",
       " 'ended',\n",
       " 'the',\n",
       " 'PHEIC',\n",
       " 'for',\n",
       " 'COVID-19',\n",
       " 'on',\n",
       " '5',\n",
       " 'May',\n",
       " '2023.[4]',\n",
       " 'The',\n",
       " 'disease',\n",
       " 'has',\n",
       " 'continued',\n",
       " 'to',\n",
       " 'circulate.',\n",
       " 'However,',\n",
       " 'as',\n",
       " 'of',\n",
       " '2024,',\n",
       " 'experts',\n",
       " 'were',\n",
       " 'uncertain',\n",
       " 'as',\n",
       " 'to',\n",
       " 'whether',\n",
       " 'it',\n",
       " 'was',\n",
       " 'still',\n",
       " 'a',\n",
       " 'pandemic.[11][12]',\n",
       " 'Pandemics',\n",
       " 'and',\n",
       " 'their',\n",
       " 'ends',\n",
       " 'are',\n",
       " 'not',\n",
       " 'well-defined,',\n",
       " 'and',\n",
       " 'whether',\n",
       " 'or',\n",
       " 'not',\n",
       " 'one',\n",
       " 'has',\n",
       " 'ended',\n",
       " 'differs',\n",
       " 'according',\n",
       " 'to',\n",
       " 'the',\n",
       " 'definition',\n",
       " 'used.[11][13]',\n",
       " 'As',\n",
       " 'of',\n",
       " '9',\n",
       " 'January',\n",
       " '2025,',\n",
       " 'COVID-19',\n",
       " 'has',\n",
       " 'caused',\n",
       " '7,079,582[5]',\n",
       " 'confirmed',\n",
       " 'deaths,',\n",
       " 'and',\n",
       " '18.2',\n",
       " 'to',\n",
       " '33.5',\n",
       " 'million',\n",
       " 'estimated',\n",
       " 'deaths.[7]',\n",
       " 'The',\n",
       " 'COVID-19',\n",
       " 'pandemic',\n",
       " 'ranks',\n",
       " 'as',\n",
       " 'the',\n",
       " 'fifth-deadliest',\n",
       " 'pandemic',\n",
       " 'or',\n",
       " 'epidemic',\n",
       " 'in',\n",
       " 'history.']"
      ]
     },
     "execution_count": 30,
     "metadata": {},
     "output_type": "execute_result"
    }
   ],
   "source": [
    "words = txt.split(' ')\n",
    "words"
   ]
  },
  {
   "cell_type": "code",
   "execution_count": 32,
   "id": "04fdbb99-1609-4fd0-b4ef-1c47501ff4d8",
   "metadata": {},
   "outputs": [
    {
     "data": {
      "text/plain": [
       "380"
      ]
     },
     "execution_count": 32,
     "metadata": {},
     "output_type": "execute_result"
    }
   ],
   "source": [
    "len(words)"
   ]
  }
 ],
 "metadata": {
  "kernelspec": {
   "display_name": "Python 3 (ipykernel)",
   "language": "python",
   "name": "python3"
  },
  "language_info": {
   "codemirror_mode": {
    "name": "ipython",
    "version": 3
   },
   "file_extension": ".py",
   "mimetype": "text/x-python",
   "name": "python",
   "nbconvert_exporter": "python",
   "pygments_lexer": "ipython3",
   "version": "3.12.4"
  }
 },
 "nbformat": 4,
 "nbformat_minor": 5
}
