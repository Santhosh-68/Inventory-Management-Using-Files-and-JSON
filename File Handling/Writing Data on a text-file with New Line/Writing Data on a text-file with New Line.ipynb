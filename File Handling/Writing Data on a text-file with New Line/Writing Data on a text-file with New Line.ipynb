{
 "cells": [
  {
   "cell_type": "code",
   "execution_count": 3,
   "id": "96d16ac3-a39f-4ed4-b250-c35584e25f64",
   "metadata": {},
   "outputs": [
    {
     "name": "stdin",
     "output_type": "stream",
     "text": [
      "Enter the text : It's going to be used when you want to save your data permanently\n"
     ]
    }
   ],
   "source": [
    "fd = open(\"Data.txt\",'a')\n",
    "\n",
    "txt = input(\"Enter the text :\")\n",
    "txt += '.\\n'\n",
    "\n",
    "fd.write(txt)\n",
    "\n",
    "fd.close()"
   ]
  },
  {
   "cell_type": "code",
   "execution_count": null,
   "id": "6eaf47e3-978c-437f-9ba9-54a8a3ac7a7d",
   "metadata": {},
   "outputs": [],
   "source": []
  }
 ],
 "metadata": {
  "kernelspec": {
   "display_name": "Python 3 (ipykernel)",
   "language": "python",
   "name": "python3"
  },
  "language_info": {
   "codemirror_mode": {
    "name": "ipython",
    "version": 3
   },
   "file_extension": ".py",
   "mimetype": "text/x-python",
   "name": "python",
   "nbconvert_exporter": "python",
   "pygments_lexer": "ipython3",
   "version": "3.12.4"
  }
 },
 "nbformat": 4,
 "nbformat_minor": 5
}
