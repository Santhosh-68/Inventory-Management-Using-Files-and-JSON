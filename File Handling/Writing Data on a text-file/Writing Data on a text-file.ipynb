{
 "cells": [
  {
   "cell_type": "code",
   "execution_count": 9,
   "id": "69621bab-e0d2-4350-a4b2-9ece7b948cb0",
   "metadata": {},
   "outputs": [],
   "source": [
    "fd = open(\"Data.txt\",\"w\")\n",
    "\n",
    "fd.write(\"Welcome to Python World\")\n",
    "\n",
    "fd.close()"
   ]
  },
  {
   "cell_type": "code",
   "execution_count": 15,
   "id": "20207c8d-bbad-4771-8861-84acae112669",
   "metadata": {},
   "outputs": [],
   "source": [
    "fd = open(\"data1.txt\",\"a\")\n",
    "\n",
    "fd.write(\"How are you? \")\n",
    "\n",
    "fd.close()"
   ]
  },
  {
   "cell_type": "code",
   "execution_count": null,
   "id": "a20e168e-1654-40b1-a93c-750d3605e95b",
   "metadata": {},
   "outputs": [],
   "source": []
  }
 ],
 "metadata": {
  "kernelspec": {
   "display_name": "Python 3 (ipykernel)",
   "language": "python",
   "name": "python3"
  },
  "language_info": {
   "codemirror_mode": {
    "name": "ipython",
    "version": 3
   },
   "file_extension": ".py",
   "mimetype": "text/x-python",
   "name": "python",
   "nbconvert_exporter": "python",
   "pygments_lexer": "ipython3",
   "version": "3.12.4"
  }
 },
 "nbformat": 4,
 "nbformat_minor": 5
}
