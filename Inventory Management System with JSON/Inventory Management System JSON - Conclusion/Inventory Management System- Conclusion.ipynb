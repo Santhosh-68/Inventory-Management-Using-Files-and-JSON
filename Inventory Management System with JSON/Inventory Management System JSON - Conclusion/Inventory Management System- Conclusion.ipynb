{
 "cells": [
  {
   "cell_type": "code",
   "execution_count": 46,
   "id": "eade2e57-7a01-4d27-9c84-510209c2ea52",
   "metadata": {},
   "outputs": [
    {
     "name": "stdout",
     "output_type": "stream",
     "text": [
      "---------------------Menu-----------------------\n",
      "1001 : 5 Star \t| 10 \t| 125\n",
      "1002 : Bar-One \t| 20 \t| 95\n",
      "1003 : Candy \t| 2 \t| 650\n",
      "1004 : Chocolate Cake \t| 550 \t| 0\n",
      "1005 : Blueberry Cake \t| 650 \t| 0\n",
      "------------------------------------------------\n",
      "\n"
     ]
    },
    {
     "name": "stdin",
     "output_type": "stream",
     "text": [
      "Enter your Name  : Yash\n",
      "Enter Mail ID    : user@gmail.com\n",
      "Enter Phone No   : 89xxxxxxxx\n",
      "Enter Product ID : 1002\n",
      "Enter Quantity   : 100\n"
     ]
    },
    {
     "name": "stdout",
     "output_type": "stream",
     "text": [
      "------------------------------------------------\n",
      "\n",
      "Sorry, We're not having enough quantity of product in our Inventory.\n",
      "We're having only 95 quantity.\n",
      "------------------------------------------------\n"
     ]
    },
    {
     "name": "stdin",
     "output_type": "stream",
     "text": [
      "Would you like to Purchase [Y/N] : Y\n"
     ]
    },
    {
     "name": "stdout",
     "output_type": "stream",
     "text": [
      "------------------------------------------------\n",
      "Name            :  Bar-One\n",
      "Price           :  20 Rs\n",
      "Quantity        :  95\n",
      "------------------------------------------------\n",
      "Billing Amount  :  1900 Rs\n",
      "------------------------------------------------\n",
      "\n",
      "------------------------------------------------\n",
      "   Thanks for your Order, Inventory Updated!   \n",
      "------------------------------------------------\n"
     ]
    }
   ],
   "source": [
    "# Importing Libraries\n",
    "import json\n",
    "import time\n",
    "\n",
    "# Importing Inventory data from Record.json file\n",
    "fd = open(\"Record.json\",'r')\n",
    "js = fd.read()\n",
    "fd.close()\n",
    "\n",
    "# Converting String data into Dictionary\n",
    "record = json.loads(js)\n",
    "\n",
    "# Displaying Menu\n",
    "print(\"---------------------Menu-----------------------\")\n",
    "for key in record.keys():\n",
    "    print(key, \":\", record[key]['Name'] ,\"\\t|\", record[key]['Price'] ,\"\\t|\", record[key]['Quantity'])\n",
    "print(\"------------------------------------------------\")\n",
    "print('')\n",
    "\n",
    "# Taking Inputs from the user about their details and purchase\n",
    "ui_name = str(input(\"Enter your Name  :\"))\n",
    "ui_mail = str(input(\"Enter Mail ID    :\"))\n",
    "ui_ph   = str(input(\"Enter Phone No   :\"))\n",
    "ui_pr   = str(input(\"Enter Product ID :\"))\n",
    "ui_qn   = int(input(\"Enter Quantity   :\"))\n",
    "\n",
    "print(\"------------------------------------------------\")\n",
    "print('')\n",
    "\n",
    "# If we're having more or equal quantity than the user wants\n",
    "if (record[ui_pr]['Quantity'] >= ui_qn):\n",
    "\n",
    "    # Displaying purchase detail\n",
    "    print(\"Name            : \",record[ui_pr]['Name'])\n",
    "    print(\"Price           : \",record[ui_pr]['Price'],\"Rs\")\n",
    "    print(\"Quantity        : \",ui_qn)\n",
    "    print(\"------------------------------------------------\")\n",
    "    print(\"Billing Amount  : \", record[ui_pr]['Price'] * ui_qn ,\"Rs\")\n",
    "    print(\"------------------------------------------------\")\n",
    "\n",
    "    # Updating Inventory in Dictionary\n",
    "    record[ui_pr]['Quantity'] -= ui_qn\n",
    "\n",
    "    # Generating CSV Transaction detail\n",
    "    sale = ui_name+','+ui_mail+','+ui_ph+','+ui_pr+','+str(record[ui_pr]['Name'])+','+str(record[ui_pr]['Price'])+','+str(ui_qn)+','+str(ui_qn * record[ui_pr]['Price'])+','+time.ctime()+'\\n'\n",
    "\n",
    "# If we're having less quantity than the user wants\n",
    "else:\n",
    "    # Displaying Info about the quantity\n",
    "    print(\"Sorry, We're not having enough quantity of product in our Inventory.\")\n",
    "    print(\"We're having only\",record[ui_pr]['Quantity'],\"quantity.\")\n",
    "    print(\"------------------------------------------------\")\n",
    "    \n",
    "    ch = str(input(\"Would you like to Purchase [Y/N] :\"))\n",
    "\n",
    "    # If user wants to purchase the whole quantity for that product \n",
    "    if (ch == 'Y' or ch =='y'):\n",
    "\n",
    "        # Displaying purchase detail\n",
    "        print(\"------------------------------------------------\")\n",
    "        print(\"Name            : \",record[ui_pr]['Name'])\n",
    "        print(\"Price           : \",record[ui_pr]['Price'],\"Rs\")\n",
    "        print(\"Quantity        : \",record[ui_pr]['Quantity'])\n",
    "        print(\"------------------------------------------------\")\n",
    "        print(\"Billing Amount  : \", record[ui_pr]['Price'] * record[ui_pr]['Quantity'] ,\"Rs\")\n",
    "        print(\"------------------------------------------------\")\n",
    "\n",
    "        # Generating CSV Transaction detail\n",
    "        sale = ui_name+','+ui_mail+','+ui_ph+','+ui_pr+','+str(record[ui_pr]['Name'])+','+str(record[ui_pr]['Price'])+','+str(record[ui_pr]['Quantity'])+','+str(record[ui_pr]['Quantity'] * record[ui_pr]['Price'])+','+time.ctime()+'\\n'\n",
    "        \n",
    "        # Updating Inventory in Dictionary\n",
    "        record[ui_pr]['Quantity'] = 0\n",
    "\n",
    "    # If user pressed anything except Y or y\n",
    "    else:\n",
    "        print(\"Thanks!\")\n",
    "\n",
    "# Converting Inventory Dictionary into String\n",
    "js = json.dumps(record)\n",
    "\n",
    "# Updating Inventory and Saving in to my Record.json file\n",
    "fd = open(\"Record.json\",'w')\n",
    "fd.write(js)\n",
    "fd.close()\n",
    "\n",
    "# Adding Transaction on Sales file\n",
    "fd = open(\"Sales.txt\",'a')\n",
    "fd.write(sale)\n",
    "fd.close()\n",
    "\n",
    "print('')\n",
    "print(\"------------------------------------------------\")\n",
    "print(\"   Thanks for your Order, Inventory Updated!   \")\n",
    "print(\"------------------------------------------------\")"
   ]
  },
  {
   "cell_type": "code",
   "execution_count": null,
   "id": "70c15463-7071-4d96-916e-2099581f2d3a",
   "metadata": {},
   "outputs": [],
   "source": []
  }
 ],
 "metadata": {
  "kernelspec": {
   "display_name": "Python 3 (ipykernel)",
   "language": "python",
   "name": "python3"
  },
  "language_info": {
   "codemirror_mode": {
    "name": "ipython",
    "version": 3
   },
   "file_extension": ".py",
   "mimetype": "text/x-python",
   "name": "python",
   "nbconvert_exporter": "python",
   "pygments_lexer": "ipython3",
   "version": "3.12.4"
  }
 },
 "nbformat": 4,
 "nbformat_minor": 5
}
