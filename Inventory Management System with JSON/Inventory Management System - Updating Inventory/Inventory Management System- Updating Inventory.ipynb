{
 "cells": [
  {
   "cell_type": "code",
   "execution_count": 9,
   "id": "3d57cd23-7ff0-44bb-a570-6b028e6252f5",
   "metadata": {},
   "outputs": [],
   "source": [
    "record = {1001: {\"Name\": \"5 Star\"         , \"Price\": 10  , \"Quantity\": 200},\n",
    "          1002: {\"Name\": \"Bar-One\"        , \"Price\": 20  , \"Quantity\": 100},\n",
    "          1003: {\"Name\": \"Candy\"          , \"Price\": 2   , \"Quantity\": 1000},\n",
    "          1004: {\"Name\": \"Chocolate Cake\" , \"Price\": 550 , \"Quantity\": 8},\n",
    "          1005: {\"Name\": \"Blueberry Cake\" , \"Price\": 650 , \"Quantity\": 5}}"
   ]
  },
  {
   "cell_type": "code",
   "execution_count": 11,
   "id": "b3e159c3-b32c-45d5-bb32-f06e47429384",
   "metadata": {},
   "outputs": [
    {
     "data": {
      "text/plain": [
       "{1001: {'Name': '5 Star', 'Price': 10, 'Quantity': 200},\n",
       " 1002: {'Name': 'Bar-One', 'Price': 20, 'Quantity': 100},\n",
       " 1003: {'Name': 'Candy', 'Price': 2, 'Quantity': 1000},\n",
       " 1004: {'Name': 'Chocolate Cake', 'Price': 550, 'Quantity': 8},\n",
       " 1005: {'Name': 'Blueberry Cake', 'Price': 650, 'Quantity': 5}}"
      ]
     },
     "execution_count": 11,
     "metadata": {},
     "output_type": "execute_result"
    }
   ],
   "source": [
    "record"
   ]
  },
  {
   "cell_type": "code",
   "execution_count": 13,
   "id": "eade2e57-7a01-4d27-9c84-510209c2ea52",
   "metadata": {},
   "outputs": [
    {
     "name": "stdout",
     "output_type": "stream",
     "text": [
      "---------------------Menu-----------------------\n",
      "\n",
      "1001 : 5 Star | 10 | 200\n",
      "1002 : Bar-One | 20 | 100\n",
      "1003 : Candy | 2 | 1000\n",
      "1004 : Chocolate Cake | 550 | 8\n",
      "1005 : Blueberry Cake | 650 | 5\n",
      "------------------------------------------------\n",
      "\n"
     ]
    },
    {
     "name": "stdin",
     "output_type": "stream",
     "text": [
      "Enter Product ID : 1003\n",
      "Enter Quantity   : 200\n"
     ]
    },
    {
     "name": "stdout",
     "output_type": "stream",
     "text": [
      "------------------------------------------------\n",
      "                   Bill                       \n",
      "\n",
      "Name            :  Candy\n",
      "Price           :  2 Rs\n",
      "Quantity        :  200\n",
      "------------------------------------------------\n",
      "Billing Amount  :  400 Rs\n",
      "------------------------------------------------\n",
      "------------------------------------------------\n",
      "   Thanks for your Order, Inventory Updated!   \n",
      "------------------------------------------------\n"
     ]
    }
   ],
   "source": [
    "print(\"---------------------Menu-----------------------\\n\")\n",
    "\n",
    "for key in record.keys():\n",
    "    print(key, \":\", record[key]['Name'] ,\"|\", record[key]['Price'] ,\"|\", record[key]['Quantity'])\n",
    "\n",
    "print(\"------------------------------------------------\\n\")\n",
    "\n",
    "ui_pr = int(input(\"Enter Product ID :\"))\n",
    "ui_qn = int(input(\"Enter Quantity   :\"))\n",
    "\n",
    "print(\"------------------------------------------------\")\n",
    "print(\"                   Bill                       \\n\")\n",
    "\n",
    "print(\"Name            : \", record[ui_pr]['Name'])\n",
    "print(\"Price           : \",record[ui_pr]['Price'],\"Rs\")\n",
    "print(\"Quantity        : \",ui_qn)\n",
    "print(\"------------------------------------------------\")\n",
    "print(\"Billing Amount  : \", record[ui_pr]['Price'] * ui_qn ,\"Rs\")\n",
    "print(\"------------------------------------------------\")\n",
    "\n",
    "record[ui_pr]['Quantity'] -= ui_qn\n",
    "\n",
    "print(\"------------------------------------------------\")\n",
    "print(\"   Thanks for your Order, Inventory Updated!   \")\n",
    "print(\"------------------------------------------------\")"
   ]
  },
  {
   "cell_type": "code",
   "execution_count": 15,
   "id": "4165f679-9800-4da7-a7f4-a6564166df3c",
   "metadata": {},
   "outputs": [
    {
     "data": {
      "text/plain": [
       "{1001: {'Name': '5 Star', 'Price': 10, 'Quantity': 200},\n",
       " 1002: {'Name': 'Bar-One', 'Price': 20, 'Quantity': 100},\n",
       " 1003: {'Name': 'Candy', 'Price': 2, 'Quantity': 800},\n",
       " 1004: {'Name': 'Chocolate Cake', 'Price': 550, 'Quantity': 8},\n",
       " 1005: {'Name': 'Blueberry Cake', 'Price': 650, 'Quantity': 5}}"
      ]
     },
     "execution_count": 15,
     "metadata": {},
     "output_type": "execute_result"
    }
   ],
   "source": [
    "record"
   ]
  },
  {
   "cell_type": "code",
   "execution_count": null,
   "id": "f422d6dd-4288-4118-8737-3c2550f3591f",
   "metadata": {},
   "outputs": [],
   "source": []
  }
 ],
 "metadata": {
  "kernelspec": {
   "display_name": "Python 3 (ipykernel)",
   "language": "python",
   "name": "python3"
  },
  "language_info": {
   "codemirror_mode": {
    "name": "ipython",
    "version": 3
   },
   "file_extension": ".py",
   "mimetype": "text/x-python",
   "name": "python",
   "nbconvert_exporter": "python",
   "pygments_lexer": "ipython3",
   "version": "3.12.4"
  }
 },
 "nbformat": 4,
 "nbformat_minor": 5
}
