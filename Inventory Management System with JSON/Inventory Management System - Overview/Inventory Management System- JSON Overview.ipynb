{
 "cells": [
  {
   "cell_type": "code",
   "execution_count": 11,
   "id": "3d57cd23-7ff0-44bb-a570-6b028e6252f5",
   "metadata": {},
   "outputs": [],
   "source": [
    "record = {1001: {\"Name\": \"5 Star\"         , \"Price\": 10  , \"Quantity\": 200},\n",
    "          1002: {\"Name\": \"Bar-One\"        , \"Price\": 20  , \"Quantity\": 100},\n",
    "          1003: {\"Name\": \"Candy\"          , \"Price\": 2   , \"Quantity\": 1000},\n",
    "          1004: {\"Name\": \"Chocolate Cake\" , \"Price\": 550 , \"Quantity\": 8},\n",
    "          1005: {\"Name\": \"Blueberry Cake\" , \"Price\": 650 , \"Quantity\": 5}}"
   ]
  },
  {
   "cell_type": "code",
   "execution_count": 13,
   "id": "b3e159c3-b32c-45d5-bb32-f06e47429384",
   "metadata": {},
   "outputs": [
    {
     "data": {
      "text/plain": [
       "{1001: {'Name': '5 Star', 'Price': 10, 'Quantity': 200},\n",
       " 1002: {'Name': 'Bar-One', 'Price': 20, 'Quantity': 100},\n",
       " 1003: {'Name': 'Candy', 'Price': 2, 'Quantity': 1000},\n",
       " 1004: {'Name': 'Chocolate Cake', 'Price': 550, 'Quantity': 8},\n",
       " 1005: {'Name': 'Blueberry Cake', 'Price': 650, 'Quantity': 5}}"
      ]
     },
     "execution_count": 13,
     "metadata": {},
     "output_type": "execute_result"
    }
   ],
   "source": [
    "record"
   ]
  },
  {
   "cell_type": "code",
   "execution_count": 15,
   "id": "eaaa23ab-b81a-4748-b4e6-d520ebde72d7",
   "metadata": {},
   "outputs": [
    {
     "name": "stdout",
     "output_type": "stream",
     "text": [
      "Blueberry Cake\n",
      "650\n",
      "5\n"
     ]
    }
   ],
   "source": [
    "print(record[1005][\"Name\"])\n",
    "print(record[1005][\"Price\"])\n",
    "print(record[1005][\"Quantity\"])"
   ]
  },
  {
   "cell_type": "code",
   "execution_count": null,
   "id": "eade2e57-7a01-4d27-9c84-510209c2ea52",
   "metadata": {},
   "outputs": [],
   "source": []
  }
 ],
 "metadata": {
  "kernelspec": {
   "display_name": "Python 3 (ipykernel)",
   "language": "python",
   "name": "python3"
  },
  "language_info": {
   "codemirror_mode": {
    "name": "ipython",
    "version": 3
   },
   "file_extension": ".py",
   "mimetype": "text/x-python",
   "name": "python",
   "nbconvert_exporter": "python",
   "pygments_lexer": "ipython3",
   "version": "3.12.4"
  }
 },
 "nbformat": 4,
 "nbformat_minor": 5
}
