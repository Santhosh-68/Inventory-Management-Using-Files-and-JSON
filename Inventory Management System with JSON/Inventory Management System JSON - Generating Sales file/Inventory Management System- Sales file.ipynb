{
 "cells": [
  {
   "cell_type": "code",
   "execution_count": 38,
   "id": "eade2e57-7a01-4d27-9c84-510209c2ea52",
   "metadata": {},
   "outputs": [
    {
     "name": "stdout",
     "output_type": "stream",
     "text": [
      "---------------------Menu-----------------------\n",
      "1001 : 5 Star \t| 10 \t| 125\n",
      "1002 : Bar-One \t| 20 \t| 95\n",
      "1003 : Candy \t| 2 \t| 650\n",
      "1004 : Chocolate Cake \t| 550 \t| 3\n",
      "1005 : Blueberry Cake \t| 650 \t| 5\n",
      "------------------------------------------------\n",
      "\n"
     ]
    },
    {
     "name": "stdin",
     "output_type": "stream",
     "text": [
      "Enter your Name  : Catherine\n",
      "Enter Mail ID    : cat68@gmail.com\n",
      "Enter Phone No   : 93xxxxxxxx\n",
      "Enter Product ID : 1005\n",
      "Enter Quantity   : 2\n"
     ]
    },
    {
     "name": "stdout",
     "output_type": "stream",
     "text": [
      "------------------------------------------------\n",
      "\n",
      "Name            :  Blueberry Cake\n",
      "Price           :  650 Rs\n",
      "Quantity        :  2\n",
      "------------------------------------------------\n",
      "Billing Amount  :  1300 Rs\n",
      "------------------------------------------------\n",
      "\n",
      "------------------------------------------------\n",
      "   Thanks for your Order, Inventory Updated!   \n",
      "------------------------------------------------\n"
     ]
    }
   ],
   "source": [
    "import json\n",
    "import time\n",
    "\n",
    "fd = open(\"Record.json\",'r')\n",
    "js = fd.read()\n",
    "fd.close()\n",
    "\n",
    "record = json.loads(js)\n",
    "\n",
    "print(\"---------------------Menu-----------------------\")\n",
    "for key in record.keys():\n",
    "    print(key, \":\", record[key]['Name'] ,\"\\t|\", record[key]['Price'] ,\"\\t|\", record[key]['Quantity'])\n",
    "print(\"------------------------------------------------\")\n",
    "print('')\n",
    "\n",
    "ui_name = str(input(\"Enter your Name  :\"))\n",
    "ui_mail = str(input(\"Enter Mail ID    :\"))\n",
    "ui_ph   = str(input(\"Enter Phone No   :\"))\n",
    "ui_pr   = str(input(\"Enter Product ID :\"))\n",
    "ui_qn   = int(input(\"Enter Quantity   :\"))\n",
    "\n",
    "print(\"------------------------------------------------\")\n",
    "print('')\n",
    "\n",
    "if (record[ui_pr]['Quantity'] >= ui_qn):\n",
    "\n",
    "    print(\"Name            : \",record[ui_pr]['Name'])\n",
    "    print(\"Price           : \",record[ui_pr]['Price'],\"Rs\")\n",
    "    print(\"Quantity        : \",ui_qn)\n",
    "    print(\"------------------------------------------------\")\n",
    "    print(\"Billing Amount  : \", record[ui_pr]['Price'] * ui_qn ,\"Rs\")\n",
    "    print(\"------------------------------------------------\")\n",
    "    \n",
    "    record[ui_pr]['Quantity'] -= ui_qn\n",
    "    sale = ui_name+','+ui_mail+','+ui_ph+','+ui_pr+','+str(record[ui_pr]['Name'])+','+str(record[ui_pr]['Price'])+','+str(ui_qn)+','+str(ui_qn * record[ui_pr]['Price'])+','+time.ctime()+'\\n'\n",
    "\n",
    "else:\n",
    "    \n",
    "    print(\"Sorry, We're not having enough quantity of product in our Inventory.\")\n",
    "    print(\"We're having only\",record[ui_pr]['Quantity'],\"quantity.\")\n",
    "    print(\"------------------------------------------------\")\n",
    "\n",
    "    ch = str(input(\"Would you like to Purchase [Y/N] :\"))\n",
    "\n",
    "    if (ch == 'Y' or ch =='y'):\n",
    "        print(\"------------------------------------------------\")\n",
    "        print(\"Name            : \",record[ui_pr]['Name'])\n",
    "        print(\"Price           : \",record[ui_pr]['Price'],\"Rs\")\n",
    "        print(\"Quantity        : \",record[ui_pr]['Quantity'])\n",
    "        print(\"------------------------------------------------\")\n",
    "        print(\"Billing Amount  : \", record[ui_pr]['Price'] * record[ui_pr]['Quantity'] ,\"Rs\")\n",
    "        print(\"------------------------------------------------\")\n",
    "\n",
    "        sale = ui_name+','+ui_mail+','+ui_ph+','+ui_pr+','+str(record[ui_pr]['Name'])+','+str(record[ui_pr]['Price'])+','+str(record[ui_pr]['Quantity'])+','+str(record[ui_pr]['Quantity'] * record[ui_pr]['Price'])+','+time.ctime()+'\\n'\n",
    "        record[ui_pr]['Quantity'] = 0\n",
    "\n",
    "    else:\n",
    "        print(\"Thanks!\")\n",
    "\n",
    "js = json.dumps(record)\n",
    "\n",
    "fd = open(\"Record.json\",'w')\n",
    "fd.write(js)\n",
    "fd.close()\n",
    "\n",
    "fd = open(\"Sales.txt\",'a')\n",
    "fd.write(sale)\n",
    "fd.close()\n",
    "\n",
    "print('')\n",
    "print(\"------------------------------------------------\")\n",
    "print(\"   Thanks for your Order, Inventory Updated!   \")\n",
    "print(\"------------------------------------------------\")"
   ]
  },
  {
   "cell_type": "code",
   "execution_count": null,
   "id": "289b92dd-4ace-4c6c-8255-249d8438c49e",
   "metadata": {},
   "outputs": [],
   "source": []
  }
 ],
 "metadata": {
  "kernelspec": {
   "display_name": "Python 3 (ipykernel)",
   "language": "python",
   "name": "python3"
  },
  "language_info": {
   "codemirror_mode": {
    "name": "ipython",
    "version": 3
   },
   "file_extension": ".py",
   "mimetype": "text/x-python",
   "name": "python",
   "nbconvert_exporter": "python",
   "pygments_lexer": "ipython3",
   "version": "3.12.4"
  }
 },
 "nbformat": 4,
 "nbformat_minor": 5
}
