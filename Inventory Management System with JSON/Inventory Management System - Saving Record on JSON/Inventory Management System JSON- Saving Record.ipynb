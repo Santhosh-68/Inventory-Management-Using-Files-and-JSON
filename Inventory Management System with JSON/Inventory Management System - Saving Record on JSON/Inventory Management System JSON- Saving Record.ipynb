{
 "cells": [
  {
   "cell_type": "code",
   "execution_count": 21,
   "id": "eade2e57-7a01-4d27-9c84-510209c2ea52",
   "metadata": {},
   "outputs": [
    {
     "name": "stdout",
     "output_type": "stream",
     "text": [
      "---------------------Menu-----------------------\n",
      "1001 : 5 Star \t| 10 \t| 200\n",
      "1002 : Bar-One \t| 20 \t| 100\n",
      "1003 : Candy \t| 2 \t| 1000\n",
      "1004 : Chocolate Cake \t| 550 \t| 8\n",
      "1005 : Blueberry Cake \t| 650 \t| 5\n",
      "------------------------------------------------\n",
      "\n"
     ]
    },
    {
     "name": "stdin",
     "output_type": "stream",
     "text": [
      "Enter Product ID : 1004\n",
      "Enter Quantity   : 5\n"
     ]
    },
    {
     "name": "stdout",
     "output_type": "stream",
     "text": [
      "------------------------------------------------\n",
      "\n",
      "Name            :  Chocolate Cake\n",
      "Price           :  550 Rs\n",
      "Quantity        :  5\n",
      "------------------------------------------------\n",
      "Billing Amount  :  2750 Rs\n",
      "------------------------------------------------\n",
      "\n",
      "------------------------------------------------\n",
      "   Thanks for your Order, Inventory Updated!   \n",
      "------------------------------------------------\n"
     ]
    }
   ],
   "source": [
    "import json\n",
    "\n",
    "record = {1001: {\"Name\": \"5 Star\"         , \"Price\": 10  , \"Quantity\": 200},\n",
    "          1002: {\"Name\": \"Bar-One\"        , \"Price\": 20  , \"Quantity\": 100},\n",
    "          1003: {\"Name\": \"Candy\"          , \"Price\": 2   , \"Quantity\": 1000},\n",
    "          1004: {\"Name\": \"Chocolate Cake\" , \"Price\": 550 , \"Quantity\": 8},\n",
    "          1005: {\"Name\": \"Blueberry Cake\" , \"Price\": 650 , \"Quantity\": 5}}\n",
    "\n",
    "print(\"---------------------Menu-----------------------\")\n",
    "for key in record.keys():\n",
    "    print(key, \":\", record[key]['Name'] ,\"\\t|\", record[key]['Price'] ,\"\\t|\", record[key]['Quantity'])\n",
    "print(\"------------------------------------------------\")\n",
    "print('')\n",
    "\n",
    "ui_pr = int(input(\"Enter Product ID :\"))\n",
    "ui_qn = int(input(\"Enter Quantity   :\"))\n",
    "\n",
    "print(\"------------------------------------------------\")\n",
    "print('')\n",
    "\n",
    "print(\"Name            : \", record[ui_pr]['Name'])\n",
    "print(\"Price           : \",record[ui_pr]['Price'],\"Rs\")\n",
    "print(\"Quantity        : \",ui_qn)\n",
    "print(\"------------------------------------------------\")\n",
    "print(\"Billing Amount  : \", record[ui_pr]['Price'] * ui_qn ,\"Rs\")\n",
    "print(\"------------------------------------------------\")\n",
    "\n",
    "record[ui_pr]['Quantity'] -= ui_qn\n",
    "\n",
    "js = json.dumps(record)\n",
    "\n",
    "fd = open(\"Record.json\",'w')\n",
    "fd.write(js)\n",
    "fd.close()\n",
    "\n",
    "print('')\n",
    "print(\"------------------------------------------------\")\n",
    "print(\"   Thanks for your Order, Inventory Updated!   \")\n",
    "print(\"------------------------------------------------\")"
   ]
  },
  {
   "cell_type": "code",
   "execution_count": null,
   "id": "b5879a69-7fbb-4c03-a811-ccd34cbe02ed",
   "metadata": {},
   "outputs": [],
   "source": []
  }
 ],
 "metadata": {
  "kernelspec": {
   "display_name": "Python 3 (ipykernel)",
   "language": "python",
   "name": "python3"
  },
  "language_info": {
   "codemirror_mode": {
    "name": "ipython",
    "version": 3
   },
   "file_extension": ".py",
   "mimetype": "text/x-python",
   "name": "python",
   "nbconvert_exporter": "python",
   "pygments_lexer": "ipython3",
   "version": "3.12.4"
  }
 },
 "nbformat": 4,
 "nbformat_minor": 5
}
